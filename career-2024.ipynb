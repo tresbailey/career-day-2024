{
  "metadata": {
    "kernelspec": {
      "name": "python",
      "display_name": "Python (Pyodide)",
      "language": "python"
    },
    "language_info": {
      "codemirror_mode": {
        "name": "python",
        "version": 3
      },
      "file_extension": ".py",
      "mimetype": "text/x-python",
      "name": "python",
      "nbconvert_exporter": "python",
      "pygments_lexer": "ipython3",
      "version": "3.8"
    },
    "colab": {
      "provenance": []
    }
  },
  "nbformat_minor": 0,
  "nbformat": 4,
  "cells": [
    {
      "cell_type": "code",
      "source": [
        "!wget https://raw.githubusercontent.com/tresbailey/career-day-2024/main/sample_data/measurements.csv"
      ],
      "metadata": {
        "trusted": true,
        "colab": {
          "base_uri": "https://localhost:8080/"
        },
        "id": "fWPGM2-yx99J",
        "outputId": "fbd56db9-5b23-4e09-8c79-b97cf9a3be26"
      },
      "outputs": [
        {
          "output_type": "execute_result",
          "data": {
            "text/plain": [
              "64"
            ]
          },
          "metadata": {},
          "execution_count": 5
        }
      ],
      "execution_count": null
    },
    {
      "cell_type": "code",
      "source": [
        "from enum import Enum\n",
        "\n",
        "# This line shows a one-line comment\n",
        "'''\n",
        "This is a multi-\n",
        "line comment\n",
        "'''\n",
        "\n",
        "\n",
        "class Ratios(Enum):\n",
        "    '''\n",
        "    This class just stores values that represent the conversion factor between\n",
        "    different measurements\n",
        "    '''\n",
        "    IN_CM = 2.54\n",
        "    IN_FT = 12\n",
        "    KM_MI = 1.60934\n",
        "    MI_FT = 5280\n",
        "    METRIC = 10\n",
        "\n",
        "def volume(length:float, width:float, height:float) -> float:\n",
        "    # This function takes 3 values and returns the volume for them\n",
        "    return length * width * height\n",
        "\n",
        "def area(length:float, width:float) -> float:\n",
        "    # This function takes 2 values and returns the area for them\n",
        "    return length * width\n",
        "\n",
        "def in_to_cm(inch:float) -> float:\n",
        "    # Takes a value in inches and converts it to centimeters\n",
        "    return inch * Ratios.IN_CM.value\n",
        "\n",
        "def cm_to_in(cm:float) -> float:\n",
        "    # Takes a value in centimeters and converts it to inches\n",
        "    return cm / Ratios.IN_CM.value\n",
        "\n",
        "def in_to_ft(inch:float) -> float:\n",
        "    # Takes a value in inches and converts it to feet\n",
        "    return inch / Ratios.IN_FT.value\n",
        "\n",
        "def ft_to_in(feet:float) -> float:\n",
        "    # Takes a value in feet and converts it to inches\n",
        "    return feet * Ratios.IN_FT.value\n",
        "\n",
        "def mi_to_ft(mile:float) -> float:\n",
        "    # Takes a value in miles and converts it to feet\n",
        "    return mile * Ratios.MI_FT.value\n",
        "\n",
        "\n",
        "def toward_kangaroo(original:float, levels=1) -> float:\n",
        "    # Takes a value in metric, and moves it toward 'kilo', by the number of levels given\n",
        "    # For example, given arguments (5, 3), it returns .005\n",
        "    result = original\n",
        "    lev = 1\n",
        "    while lev <= levels:\n",
        "        result = result / Ratios.METRIC.value\n",
        "        lev += 1\n",
        "    return result\n",
        "\n",
        "def toward_milk(original:float, levels=1) -> float:\n",
        "    # Takes a value in metric, and moves it toward 'milli', by the number of levels given\n",
        "    # For example, given arguments (5, 3), it returns 5000\n",
        "    result = original\n",
        "    while levels >= 1:\n",
        "        result = result * Ratios.METRIC.value\n",
        "        levels -= 1\n",
        "    return result\n",
        "\n",
        "\n",
        "\n",
        "# Examples:\n",
        "# 1. Convert 7 inches to centimers\n",
        "print(f'7 inches is {in_to_cm(7)} centimeters')\n",
        "\n",
        "# 2. Convert 23 cm to inches\n",
        "print(f'23 centimeters is {cm_to_in(23)} inches')\n",
        "\n",
        "# 3. Convert 954 inches to feet\n",
        "print(f'954 inches is {in_to_ft(954)} feet')\n",
        "\n",
        "# 4. Calculate a volume, assume it is in centimeters. Convert that to inches,\n",
        "#    then convert that to feet\n",
        "nested_function_result = in_to_ft(cm_to_in(volume(2, 4, 8)))\n",
        "print(f'The result of converting a volume to inches and then to feet {nested_function_result}')\n",
        "\n",
        "# 5. Showing how to transition through metric values\n",
        "print(f'One mm is {toward_kangaroo(1, 1)}cm, {toward_kangaroo(1, 2)}dm, {toward_kangaroo(1, 3)}m, {toward_kangaroo(1, 6)}km')\n",
        "print(f'One km is {toward_milk(1, 3)}m, {toward_milk(1, 5)}cm')\n",
        "\n",
        "\n",
        "# Back to the real code...\n",
        "def load_data():\n",
        "    # Loads a data file containing the top 10 US cities by land area\n",
        "    # Each line contains the city name, the length in miles,\n",
        "    #  and the height in miles\n",
        "    filed = {}\n",
        "    with open('measurements.csv', 'r') as in_file:\n",
        "      for entry in in_file.readlines():\n",
        "          entry = entry.split(',')\n",
        "          filed[entry[0]] = (int(entry[1]), int(entry[2].strip()))\n",
        "    return filed\n",
        "\n",
        "def area_in_km(length:float, width:float) -> float:\n",
        "    # ADD YOUR CODE BELOW!!!!\n",
        "    # The input is the length in miles and width in miles\n",
        "    # The output should be the area in kilometers\n",
        "    # HINT: You can do this in multiple ways.\n",
        "    #   Maybe you convert the result to centimeters, then km\n",
        "    #   Maybe you create a new function to convert miles to km and call that here\n",
        "    return None # <-- Replace the 'None' with some function calls\n",
        "\n",
        "\n",
        "def calculate_all_entries(cities:dict):\n",
        "    # For each of the cities, get the area in kilometers\n",
        "    # You should update the function above, area_in_km, to get each area\n",
        "    for key, val in cities.items():\n",
        "        print(f'The area of {key}, is {area_in_km(*val)} square kilometers')\n",
        "\n",
        "# This is what kicks off the actions to calculate the area of all cities\n",
        "# Look at the Files -> sample_data -> measurements.csv to understand the data\n",
        "calculate_all_entries(load_data())"
      ],
      "metadata": {
        "trusted": true,
        "colab": {
          "base_uri": "https://localhost:8080/"
        },
        "id": "4oYZp5XAx99E",
        "outputId": "b65239e7-4d3f-40ff-c59e-8c3d02f119cd"
      },
      "outputs": [
        {
          "output_type": "stream",
          "name": "stdout",
          "text": [
            "7 inches is 17.78 centimeters\n",
            "23 centimeters is 9.05511811023622 inches\n",
            "954 inches is 79.5 feet\n",
            "The result of converting a volume to inches and then to feet 2.099737532808399\n",
            "One mm is 0.1cm, 0.01dm, 0.001m, 1.0000000000000002e-06km\n",
            "One km is 1000m, 100000cm\n",
            "The area of Jacksonville, is None square kilometers\n",
            "The area of Oklahoma City, is None square kilometers\n",
            "The area of Houston, is None square kilometers\n",
            "The area of Phoenix, is None square kilometers\n",
            "The area of Los Angeles, is None square kilometers\n",
            "The area of San Antonio, is None square kilometers\n",
            "The area of Chesapeake, is None square kilometers\n",
            "The area of Dallas, is None square kilometers\n",
            "The area of Fort Worth, is None square kilometers\n",
            "The area of San Diego, is None square kilometers\n"
          ]
        }
      ],
      "execution_count": null
    }
  ]
}