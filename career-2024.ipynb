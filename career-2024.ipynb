{
  "metadata": {
    "kernelspec": {
      "name": "python",
      "display_name": "Python (Pyodide)",
      "language": "python"
    },
    "language_info": {
      "codemirror_mode": {
        "name": "python",
        "version": 3
      },
      "file_extension": ".py",
      "mimetype": "text/x-python",
      "name": "python",
      "nbconvert_exporter": "python",
      "pygments_lexer": "ipython3",
      "version": "3.8"
    }
  },
  "nbformat_minor": 4,
  "nbformat": 4,
  "cells": [
    {
      "cell_type": "code",
      "source": "from enum import Enum\n\nclass Ratios(Enum):\n    IN_CM = 2.54\n    IN_FT = 12\n    KM_MI = 1.60934\n    METRIC = 10\n\ndef volume(length:float, width:float, height:float) -> float:\n    return length * width * height\n\ndef area(length:float, width:float) -> float:\n    return length * width\n\ndef in_to_cm(inch:float) -> float:\n    return inch * Ratios.IN_CM.value\n\ndef cm_to_in(cm:float) -> float:\n    return cm / Ratios.IN_CM.value\n\ndef in_to_ft(inch:float) -> float:\n    return inch / Ratios.IN_FT.value\n\ndef ft_to_in(feet:float) -> float:\n    return feet * Ratios.IN_FT.value\n\ndef mi_to_km(mile:float) -> float:\n    return mile * Ratios.KM_MI.value\n\ndef toward_kangaroo(original:float, levels=1) -> float:\n    result = original\n    lev = 1\n    while lev <= levels:\n        result = result / Ratios.METRIC.value\n        lev += 1\n    return result\n\ndef toward_milk(original:float, levels=1) -> float:\n    result = original\n    while levels >= 1:\n        result = result * Ratios.METRIC.value\n        levels -= 1\n    return result\n\nresult = in_to_ft(cm_to_in(volume(2, 4, 8)))\n\nprint(f'One inch is {in_to_cm(1)} centimeters')\nprint(f'One centimeter is {cm_to_in(1)} inches')\nprint(f'One inch is {in_to_ft(1)} feet')\nprint(f'The result is {result}')\nprint(f'One mm is {toward_kangaroo(1, 1)}cm, {toward_kangaroo(1, 2)}dm, {toward_kangaroo(1, 3)}m, {toward_kangaroo(1, 6)}km')\nprint(f'One km is {toward_milk(1, 3)}m, {toward_milk(1, 5)}cm')",
      "metadata": {
        "trusted": true
      },
      "outputs": [
        {
          "name": "stdout",
          "text": "One inch is 2.54 centimeters\nOne centimeter is 0.39370078740157477 inches\nOne inch is 0.08333333333333333 feet\nThe result is 2.099737532808399\nOne mm is 0.1cm, 0.01dm, 0.001m, 1.0000000000000002e-06km\nOne km is 1000m, 100000cm\n",
          "output_type": "stream"
        }
      ],
      "execution_count": 2
    },
    {
      "cell_type": "code",
      "source": "",
      "metadata": {
        "trusted": true
      },
      "outputs": [],
      "execution_count": null
    }
  ]
}