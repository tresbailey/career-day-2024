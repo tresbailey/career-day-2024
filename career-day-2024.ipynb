from enum import Enum

class Ratios(Enum):
    IN_CM = 2.54
    IN_FT = 12
    KM_MI = 1.60934
    METRIC = 10

def volume(length:float, width:float, height:float) -> float:
    return length * width * height

def area(length:float, width:float) -> float:
    return length * width

def in_to_cm(inch:float) -> float:
    return inch * Ratios.IN_CM.value

def cm_to_in(cm:float) -> float:
    return cm / Ratios.IN_CM.value

def in_to_ft(inch:float) -> float:
    return inch / Ratios.IN_FT.value

def ft_to_in(feet:float) -> float:
    return feet * Ratios.IN_FT.value

def mi_to_km(mile:float) -> float:
    return mile * Ratios.KM_MI.value

def toward_kangaroo(original:float, levels=1) -> float:
    result = original
    lev = 1
    while lev <= levels:
        result = result / Ratios.METRIC.value
        lev += 1
    return result

def toward_milk(original:float, levels=1) -> float:
    result = original
    while levels >= 1:
        result = result * Ratios.METRIC.value
        levels -= 1
    return result

result = in_to_ft(cm_to_in(volume(2, 4, 8)))

print(f'One inch is {in_to_cm(1)} centimeters')
print(f'One centimeter is {cm_to_in(1)} inches')
print(f'One inch is {in_to_ft(1)} feet')
print(f'The result is {result}')
print(f'One mm is {toward_kangaroo(1, 1)}cm, {toward_kangaroo(1, 2)}dm, {toward_kangaroo(1, 3)}m, {toward_kangaroo(1, 6)}km')
print(f'One km is {toward_milk(1, 3)}m, {toward_milk(1, 5)}cm')
